{
  "nbformat": 4,
  "nbformat_minor": 0,
  "metadata": {
    "colab": {
      "provenance": []
    },
    "kernelspec": {
      "name": "python3",
      "display_name": "Python 3"
    },
    "language_info": {
      "name": "python"
    }
  },
  "cells": [
    {
      "cell_type": "code",
      "execution_count": null,
      "metadata": {
        "colab": {
          "base_uri": "https://localhost:8080/"
        },
        "id": "FVWMgzOFeAqe",
        "outputId": "dfb0a561-f0bb-4347-e8cb-d01041865b54"
      },
      "outputs": [
        {
          "output_type": "stream",
          "name": "stdout",
          "text": [
            "Drive already mounted at /content/drive; to attempt to forcibly remount, call drive.mount(\"/content/drive\", force_remount=True).\n"
          ]
        }
      ],
      "source": [
        "from google.colab import drive\n",
        "drive.mount('/content/drive')"
      ]
    },
    {
      "cell_type": "code",
      "source": [
        "import os\n",
        "cur_path = \"/content/drive/MyDrive/bigdata_project\"\n",
        "os.chdir(cur_path)\n",
        "!pwd"
      ],
      "metadata": {
        "colab": {
          "base_uri": "https://localhost:8080/"
        },
        "id": "StKcz_RkeKcU",
        "outputId": "e62d39d6-8b32-4792-a057-71cd1ecc0704"
      },
      "execution_count": null,
      "outputs": [
        {
          "output_type": "stream",
          "name": "stdout",
          "text": [
            "/content/drive/MyDrive/bigdata_project\n"
          ]
        }
      ]
    },
    {
      "cell_type": "code",
      "source": [
        "!pip install pyspark \n",
        "!pip install -U -q PyDrive\n",
        "!apt install openjdk-8-jdk-headless -qq \n",
        "import os\n",
        "os.environ[\"JAVA_HOME\"] = \"/usr/lib/jvm/java-8-openjdk-amd64\""
      ],
      "metadata": {
        "colab": {
          "base_uri": "https://localhost:8080/"
        },
        "id": "p8I6CcMReMwL",
        "outputId": "d0026678-2a73-4393-9a9f-93a48443cea0"
      },
      "execution_count": null,
      "outputs": [
        {
          "output_type": "stream",
          "name": "stdout",
          "text": [
            "Looking in indexes: https://pypi.org/simple, https://us-python.pkg.dev/colab-wheels/public/simple/\n",
            "Requirement already satisfied: pyspark in /usr/local/lib/python3.10/dist-packages (3.4.0)\n",
            "Requirement already satisfied: py4j==0.10.9.7 in /usr/local/lib/python3.10/dist-packages (from pyspark) (0.10.9.7)\n",
            "openjdk-8-jdk-headless is already the newest version (8u362-ga-0ubuntu1~20.04.1).\n",
            "0 upgraded, 0 newly installed, 0 to remove and 24 not upgraded.\n"
          ]
        }
      ]
    },
    {
      "cell_type": "code",
      "source": [
        "from pyspark import SparkContext\n",
        "import numpy as np\n",
        "from pyspark.sql import SparkSession\n",
        "from pyspark.ml.linalg import Vectors\n",
        "import pickle"
      ],
      "metadata": {
        "id": "fjyHgX3teuI0"
      },
      "execution_count": null,
      "outputs": []
    },
    {
      "cell_type": "code",
      "source": [
        "!pip install pyspark[sql]"
      ],
      "metadata": {
        "colab": {
          "base_uri": "https://localhost:8080/"
        },
        "id": "gp12XkXghYwP",
        "outputId": "1b8690f0-7c73-4430-997e-6e4309043d88"
      },
      "execution_count": null,
      "outputs": [
        {
          "output_type": "stream",
          "name": "stdout",
          "text": [
            "Looking in indexes: https://pypi.org/simple, https://us-python.pkg.dev/colab-wheels/public/simple/\n",
            "Requirement already satisfied: pyspark[sql] in /usr/local/lib/python3.10/dist-packages (3.4.0)\n",
            "Requirement already satisfied: py4j==0.10.9.7 in /usr/local/lib/python3.10/dist-packages (from pyspark[sql]) (0.10.9.7)\n",
            "Requirement already satisfied: pandas>=1.0.5 in /usr/local/lib/python3.10/dist-packages (from pyspark[sql]) (1.5.3)\n",
            "Requirement already satisfied: numpy>=1.15 in /usr/local/lib/python3.10/dist-packages (from pyspark[sql]) (1.22.4)\n",
            "Requirement already satisfied: pyarrow>=1.0.0 in /usr/local/lib/python3.10/dist-packages (from pyspark[sql]) (9.0.0)\n",
            "Requirement already satisfied: pytz>=2020.1 in /usr/local/lib/python3.10/dist-packages (from pandas>=1.0.5->pyspark[sql]) (2022.7.1)\n",
            "Requirement already satisfied: python-dateutil>=2.8.1 in /usr/local/lib/python3.10/dist-packages (from pandas>=1.0.5->pyspark[sql]) (2.8.2)\n",
            "Requirement already satisfied: six>=1.5 in /usr/local/lib/python3.10/dist-packages (from python-dateutil>=2.8.1->pandas>=1.0.5->pyspark[sql]) (1.16.0)\n"
          ]
        }
      ]
    },
    {
      "cell_type": "code",
      "source": [
        "from __future__ import print_function\n",
        "from functools import wraps\n",
        "import pyspark as spark\n",
        "from pyspark import SparkConf\n",
        "import time\n",
        "from operator import add\n",
        "import os \n",
        "from subprocess import STDOUT, check_call, check_output\n",
        "\n",
        "class Fastq:\n",
        "    def __init__(self, path:str) -> str:\n",
        "        self.path = path\n",
        "        self.install_java_scala()\n",
        "        self.stop_context()\n",
        "        self.sc = spark.SparkContext.getOrCreate(conf=self.set_conf())\n",
        "        self.data = self.sc.textFile(self.path)\n",
        "\n",
        "    def stop_context(self):\n",
        "        try:\n",
        "          self.sc.stop()\n",
        "        except:\n",
        "          pass\n",
        "\n",
        "    def set_conf(self):\n",
        "        conf = SparkConf().setAppName(\"analyze_fastq\")\n",
        "        conf = (conf.setMaster('local[*]')\n",
        "          .set('spark.executor.memory', '4G')\n",
        "          .set('spark.driver.memory', '4G')\n",
        "          .set('spark.driver.maxResultSize', '4G'))\n",
        "        return conf\n",
        "\n",
        "    def install_java_scala(self):\n",
        "        try:\n",
        "          java_ver = check_output(['java', '-version'], stderr=STDOUT)\n",
        "        except:\n",
        "          java_ver = b''\n",
        "        try:\n",
        "          scala_ver = check_output(['scala', '-version'], stderr=STDOUT)\n",
        "        except:\n",
        "          scala_ver = b''\n",
        "        if b'1.8.0_232' not in java_ver:\n",
        "          java_8_install = ['apt-get', '--quiet', 'install',\n",
        "                            '-y', 'openjdk-8-jdk-headless']\n",
        "          java_set_alt = ['update-alternatives', '--set', 'java', \n",
        "                          '/usr/lib/jvm/java-8-openjdk-amd64/jre/bin/java' ] \n",
        "          check_call(java_8_install, stdout=open(os.devnull, 'wb'), \n",
        "                     stderr=STDOUT)\n",
        "          os.environ[\"JAVA_HOME\"] = \"/usr/lib/jvm/java-8-openjdk-amd64\" \n",
        "          check_call(java_set_alt)  \n",
        "        if b'2.11.12' not in scala_ver:\n",
        "          scala_install = ['apt-get', '--quiet', 'install', 'scala']\n",
        "          check_call(scala_install)\n",
        "          \n",
        "    def _logging(func):\n",
        "        @wraps(func)\n",
        "        def log_print(instance, *args, **kwargs):\n",
        "          start = time.time()\n",
        "          res = func(instance, *args, **kwargs)\n",
        "          print(\"Finished Executing {}  in {}s!\".format(func.__name__, time.time() - start))\n",
        "          return res\n",
        "        return log_print\n",
        "\n",
        "    @_logging\n",
        "    def get_data(self):\n",
        "        return self.data    "
      ],
      "metadata": {
        "id": "WA6dGQQveySo"
      },
      "execution_count": null,
      "outputs": []
    },
    {
      "cell_type": "markdown",
      "source": [
        "## Get reference and read resource"
      ],
      "metadata": {
        "id": "fSu_T5klm8ph"
      }
    },
    {
      "cell_type": "code",
      "source": [
        "fasta_ref = Fastq(cur_path + '/reference_chr21_20000000_20050000.fa')\n",
        "fasta_read = Fastq(cur_path + '/reads.fq')"
      ],
      "metadata": {
        "id": "wvKUlwY_nAVt"
      },
      "execution_count": null,
      "outputs": []
    },
    {
      "cell_type": "markdown",
      "source": [
        "## Define kmer function"
      ],
      "metadata": {
        "id": "rBsswGfzmrdb"
      }
    },
    {
      "cell_type": "code",
      "source": [
        "def cut_kmer(k,source):\n",
        "  result = []\n",
        "  l_s = len(source)\n",
        "  for i in range(l_s-k+1):\n",
        "    result.append(source[i:i+k])\n",
        "  return result"
      ],
      "metadata": {
        "id": "OgTT6S-_fU0X"
      },
      "execution_count": null,
      "outputs": []
    },
    {
      "cell_type": "markdown",
      "source": [
        "## Process reference and read"
      ],
      "metadata": {
        "id": "SKUduP6efBai"
      }
    },
    {
      "cell_type": "markdown",
      "source": [
        "#### Reference"
      ],
      "metadata": {
        "id": "K2jV8FN8oSg2"
      }
    },
    {
      "cell_type": "code",
      "source": [
        "def process_ref(k,fasta_r):\n",
        "  return fasta_r.data.map(lambda x: x.split(',')).map(lambda x:('bin'+ str(x[0])+'_'+str(x[1]),x[2])).map(lambda x: (x[0],x[1], cut_kmer(k,x[1])))"
      ],
      "metadata": {
        "id": "3lUQtxIpgh9y"
      },
      "execution_count": null,
      "outputs": []
    },
    {
      "cell_type": "code",
      "source": [
        "res_ref_15 =  process_ref(15,fasta_ref)\n",
        "res_ref_20 =  process_ref(20,fasta_ref)"
      ],
      "metadata": {
        "id": "eTMet34Je3uR"
      },
      "execution_count": null,
      "outputs": []
    },
    {
      "cell_type": "code",
      "source": [
        "res_ref_15.take(2)"
      ],
      "metadata": {
        "colab": {
          "base_uri": "https://localhost:8080/"
        },
        "id": "ZZfMTBDVnuz9",
        "outputId": "aceae79e-bf9e-40b5-9bd4-ab7fbf53cf80"
      },
      "execution_count": null,
      "outputs": [
        {
          "output_type": "execute_result",
          "data": {
            "text/plain": [
              "[('binstart_end', 'sequence', []),\n",
              " ('bin20000000_20000100',\n",
              "  'CCCTTCTCCTATCCCTTGAAAAATTGTCATTTATTTCTCTTATCCATATGGCATAATCAAAGAATAAATTGGTGATATTTGTTCAAAAATCCATGCCTAT',\n",
              "  ['CCCTTCTCCTATCCC',\n",
              "   'CCTTCTCCTATCCCT',\n",
              "   'CTTCTCCTATCCCTT',\n",
              "   'TTCTCCTATCCCTTG',\n",
              "   'TCTCCTATCCCTTGA',\n",
              "   'CTCCTATCCCTTGAA',\n",
              "   'TCCTATCCCTTGAAA',\n",
              "   'CCTATCCCTTGAAAA',\n",
              "   'CTATCCCTTGAAAAA',\n",
              "   'TATCCCTTGAAAAAT',\n",
              "   'ATCCCTTGAAAAATT',\n",
              "   'TCCCTTGAAAAATTG',\n",
              "   'CCCTTGAAAAATTGT',\n",
              "   'CCTTGAAAAATTGTC',\n",
              "   'CTTGAAAAATTGTCA',\n",
              "   'TTGAAAAATTGTCAT',\n",
              "   'TGAAAAATTGTCATT',\n",
              "   'GAAAAATTGTCATTT',\n",
              "   'AAAAATTGTCATTTA',\n",
              "   'AAAATTGTCATTTAT',\n",
              "   'AAATTGTCATTTATT',\n",
              "   'AATTGTCATTTATTT',\n",
              "   'ATTGTCATTTATTTC',\n",
              "   'TTGTCATTTATTTCT',\n",
              "   'TGTCATTTATTTCTC',\n",
              "   'GTCATTTATTTCTCT',\n",
              "   'TCATTTATTTCTCTT',\n",
              "   'CATTTATTTCTCTTA',\n",
              "   'ATTTATTTCTCTTAT',\n",
              "   'TTTATTTCTCTTATC',\n",
              "   'TTATTTCTCTTATCC',\n",
              "   'TATTTCTCTTATCCA',\n",
              "   'ATTTCTCTTATCCAT',\n",
              "   'TTTCTCTTATCCATA',\n",
              "   'TTCTCTTATCCATAT',\n",
              "   'TCTCTTATCCATATG',\n",
              "   'CTCTTATCCATATGG',\n",
              "   'TCTTATCCATATGGC',\n",
              "   'CTTATCCATATGGCA',\n",
              "   'TTATCCATATGGCAT',\n",
              "   'TATCCATATGGCATA',\n",
              "   'ATCCATATGGCATAA',\n",
              "   'TCCATATGGCATAAT',\n",
              "   'CCATATGGCATAATC',\n",
              "   'CATATGGCATAATCA',\n",
              "   'ATATGGCATAATCAA',\n",
              "   'TATGGCATAATCAAA',\n",
              "   'ATGGCATAATCAAAG',\n",
              "   'TGGCATAATCAAAGA',\n",
              "   'GGCATAATCAAAGAA',\n",
              "   'GCATAATCAAAGAAT',\n",
              "   'CATAATCAAAGAATA',\n",
              "   'ATAATCAAAGAATAA',\n",
              "   'TAATCAAAGAATAAA',\n",
              "   'AATCAAAGAATAAAT',\n",
              "   'ATCAAAGAATAAATT',\n",
              "   'TCAAAGAATAAATTG',\n",
              "   'CAAAGAATAAATTGG',\n",
              "   'AAAGAATAAATTGGT',\n",
              "   'AAGAATAAATTGGTG',\n",
              "   'AGAATAAATTGGTGA',\n",
              "   'GAATAAATTGGTGAT',\n",
              "   'AATAAATTGGTGATA',\n",
              "   'ATAAATTGGTGATAT',\n",
              "   'TAAATTGGTGATATT',\n",
              "   'AAATTGGTGATATTT',\n",
              "   'AATTGGTGATATTTG',\n",
              "   'ATTGGTGATATTTGT',\n",
              "   'TTGGTGATATTTGTT',\n",
              "   'TGGTGATATTTGTTC',\n",
              "   'GGTGATATTTGTTCA',\n",
              "   'GTGATATTTGTTCAA',\n",
              "   'TGATATTTGTTCAAA',\n",
              "   'GATATTTGTTCAAAA',\n",
              "   'ATATTTGTTCAAAAA',\n",
              "   'TATTTGTTCAAAAAT',\n",
              "   'ATTTGTTCAAAAATC',\n",
              "   'TTTGTTCAAAAATCC',\n",
              "   'TTGTTCAAAAATCCA',\n",
              "   'TGTTCAAAAATCCAT',\n",
              "   'GTTCAAAAATCCATG',\n",
              "   'TTCAAAAATCCATGC',\n",
              "   'TCAAAAATCCATGCC',\n",
              "   'CAAAAATCCATGCCT',\n",
              "   'AAAAATCCATGCCTA',\n",
              "   'AAAATCCATGCCTAT'])]"
            ]
          },
          "metadata": {},
          "execution_count": 30
        }
      ]
    },
    {
      "cell_type": "code",
      "source": [
        "# change to dataframe\n",
        "spark = SparkSession.builder.appName('BigData').getOrCreate()\n",
        "ref_rdd_15 = spark.sparkContext.parallelize(res_ref_15.collect())\n",
        "ref_rdd_20 = spark.sparkContext.parallelize(res_ref_20.collect())\n",
        "# remove header\n",
        "header_15 = ref_rdd_15.first()\n",
        "ref_df_15 = ref_rdd_15.filter(lambda row : row != header_15).toDF()\n",
        "ref_df_15 = ref_df_15.withColumnRenamed(\"_1\",\"bin_pos\")\\\n",
        "   .withColumnRenamed(\"_2\",\"bin\")\\\n",
        "   .withColumnRenamed(\"_3\",\"kmer_list\")\n",
        "header_20 = ref_rdd_20.first()\n",
        "ref_df_20 = ref_rdd_20.filter(lambda row : row != header_20).toDF()\n",
        "ref_df_20 = ref_df_20.withColumnRenamed(\"_1\",\"bin_pos\")\\\n",
        "   .withColumnRenamed(\"_2\",\"bin\")\\\n",
        "   .withColumnRenamed(\"_3\",\"kmer_list\")"
      ],
      "metadata": {
        "id": "5pXdBSVOoWUA"
      },
      "execution_count": null,
      "outputs": []
    },
    {
      "cell_type": "code",
      "source": [
        "ref_df_15.show(2)"
      ],
      "metadata": {
        "colab": {
          "base_uri": "https://localhost:8080/"
        },
        "id": "Qb5Mz324oyqN",
        "outputId": "e346e0f3-9f69-4979-c540-a0c69666a0a7"
      },
      "execution_count": null,
      "outputs": [
        {
          "output_type": "stream",
          "name": "stdout",
          "text": [
            "+--------------------+--------------------+--------------------+\n",
            "|             bin_pos|                 bin|           kmer_list|\n",
            "+--------------------+--------------------+--------------------+\n",
            "|bin20000000_20000100|CCCTTCTCCTATCCCTT...|[CCCTTCTCCTATCCC,...|\n",
            "|bin20000100_20000200|TAGATTCATTTAGAATA...|[TAGATTCATTTAGAA,...|\n",
            "+--------------------+--------------------+--------------------+\n",
            "only showing top 2 rows\n",
            "\n"
          ]
        }
      ]
    },
    {
      "cell_type": "code",
      "source": [
        "ref_df_20.show(2)"
      ],
      "metadata": {
        "colab": {
          "base_uri": "https://localhost:8080/"
        },
        "id": "GgoVJZUFpx65",
        "outputId": "b1bce2ab-9da3-477c-8390-472e86336b79"
      },
      "execution_count": null,
      "outputs": [
        {
          "output_type": "stream",
          "name": "stdout",
          "text": [
            "+--------------------+--------------------+--------------------+\n",
            "|             bin_pos|                 bin|           kmer_list|\n",
            "+--------------------+--------------------+--------------------+\n",
            "|bin20000000_20000100|CCCTTCTCCTATCCCTT...|[CCCTTCTCCTATCCCT...|\n",
            "|bin20000100_20000200|TAGATTCATTTAGAATA...|[TAGATTCATTTAGAAT...|\n",
            "+--------------------+--------------------+--------------------+\n",
            "only showing top 2 rows\n",
            "\n"
          ]
        }
      ]
    },
    {
      "cell_type": "markdown",
      "source": [
        "#### Read"
      ],
      "metadata": {
        "id": "AFBD18UnoU72"
      }
    },
    {
      "cell_type": "code",
      "source": [
        "def process_read(k, fasta_r):\n",
        "  return fasta_r.data.zipWithIndex().map(lambda x: (x[1]//4,x[1]%4,x[0])).filter(lambda x:x[1] == 1 or x[1] == 0).map(lambda x: (\"read\"+ str(x[0]),x[2])).reduceByKey(lambda x,y:[x,y]).sortBy(lambda x: int(x[0][4:])).map(lambda x: (x[0],x[1][0],x[1][1], cut_kmer(k,x[1][1])))"
      ],
      "metadata": {
        "id": "SBL5pIjjnauU"
      },
      "execution_count": null,
      "outputs": []
    },
    {
      "cell_type": "code",
      "source": [
        "res_read_15 =  process_read(15,fasta_read)\n",
        "res_read_20 =  process_read(20,fasta_read)"
      ],
      "metadata": {
        "id": "UkhH-AVqhB8v"
      },
      "execution_count": null,
      "outputs": []
    },
    {
      "cell_type": "code",
      "source": [
        "res_read_15.take(1)"
      ],
      "metadata": {
        "colab": {
          "base_uri": "https://localhost:8080/"
        },
        "id": "HQFlnh-ln1A8",
        "outputId": "7581658b-f09e-4ed4-b1be-38e338206ddd"
      },
      "execution_count": null,
      "outputs": [
        {
          "output_type": "execute_result",
          "data": {
            "text/plain": [
              "[('read0',\n",
              "  '@ST-K00126:336:H5W53BBXX:19962722:20120330:50538:50948',\n",
              "  'TCCTTACTGGTTTTGCAGGTAACTTATAGAGTATTTCCACTTCCCTTCTCCTATCCCTTGAAAAATTGTCATTTATTTCTCTTATCCATATGGCATAATC',\n",
              "  ['TCCTTACTGGTTTTG',\n",
              "   'CCTTACTGGTTTTGC',\n",
              "   'CTTACTGGTTTTGCA',\n",
              "   'TTACTGGTTTTGCAG',\n",
              "   'TACTGGTTTTGCAGG',\n",
              "   'ACTGGTTTTGCAGGT',\n",
              "   'CTGGTTTTGCAGGTA',\n",
              "   'TGGTTTTGCAGGTAA',\n",
              "   'GGTTTTGCAGGTAAC',\n",
              "   'GTTTTGCAGGTAACT',\n",
              "   'TTTTGCAGGTAACTT',\n",
              "   'TTTGCAGGTAACTTA',\n",
              "   'TTGCAGGTAACTTAT',\n",
              "   'TGCAGGTAACTTATA',\n",
              "   'GCAGGTAACTTATAG',\n",
              "   'CAGGTAACTTATAGA',\n",
              "   'AGGTAACTTATAGAG',\n",
              "   'GGTAACTTATAGAGT',\n",
              "   'GTAACTTATAGAGTA',\n",
              "   'TAACTTATAGAGTAT',\n",
              "   'AACTTATAGAGTATT',\n",
              "   'ACTTATAGAGTATTT',\n",
              "   'CTTATAGAGTATTTC',\n",
              "   'TTATAGAGTATTTCC',\n",
              "   'TATAGAGTATTTCCA',\n",
              "   'ATAGAGTATTTCCAC',\n",
              "   'TAGAGTATTTCCACT',\n",
              "   'AGAGTATTTCCACTT',\n",
              "   'GAGTATTTCCACTTC',\n",
              "   'AGTATTTCCACTTCC',\n",
              "   'GTATTTCCACTTCCC',\n",
              "   'TATTTCCACTTCCCT',\n",
              "   'ATTTCCACTTCCCTT',\n",
              "   'TTTCCACTTCCCTTC',\n",
              "   'TTCCACTTCCCTTCT',\n",
              "   'TCCACTTCCCTTCTC',\n",
              "   'CCACTTCCCTTCTCC',\n",
              "   'CACTTCCCTTCTCCT',\n",
              "   'ACTTCCCTTCTCCTA',\n",
              "   'CTTCCCTTCTCCTAT',\n",
              "   'TTCCCTTCTCCTATC',\n",
              "   'TCCCTTCTCCTATCC',\n",
              "   'CCCTTCTCCTATCCC',\n",
              "   'CCTTCTCCTATCCCT',\n",
              "   'CTTCTCCTATCCCTT',\n",
              "   'TTCTCCTATCCCTTG',\n",
              "   'TCTCCTATCCCTTGA',\n",
              "   'CTCCTATCCCTTGAA',\n",
              "   'TCCTATCCCTTGAAA',\n",
              "   'CCTATCCCTTGAAAA',\n",
              "   'CTATCCCTTGAAAAA',\n",
              "   'TATCCCTTGAAAAAT',\n",
              "   'ATCCCTTGAAAAATT',\n",
              "   'TCCCTTGAAAAATTG',\n",
              "   'CCCTTGAAAAATTGT',\n",
              "   'CCTTGAAAAATTGTC',\n",
              "   'CTTGAAAAATTGTCA',\n",
              "   'TTGAAAAATTGTCAT',\n",
              "   'TGAAAAATTGTCATT',\n",
              "   'GAAAAATTGTCATTT',\n",
              "   'AAAAATTGTCATTTA',\n",
              "   'AAAATTGTCATTTAT',\n",
              "   'AAATTGTCATTTATT',\n",
              "   'AATTGTCATTTATTT',\n",
              "   'ATTGTCATTTATTTC',\n",
              "   'TTGTCATTTATTTCT',\n",
              "   'TGTCATTTATTTCTC',\n",
              "   'GTCATTTATTTCTCT',\n",
              "   'TCATTTATTTCTCTT',\n",
              "   'CATTTATTTCTCTTA',\n",
              "   'ATTTATTTCTCTTAT',\n",
              "   'TTTATTTCTCTTATC',\n",
              "   'TTATTTCTCTTATCC',\n",
              "   'TATTTCTCTTATCCA',\n",
              "   'ATTTCTCTTATCCAT',\n",
              "   'TTTCTCTTATCCATA',\n",
              "   'TTCTCTTATCCATAT',\n",
              "   'TCTCTTATCCATATG',\n",
              "   'CTCTTATCCATATGG',\n",
              "   'TCTTATCCATATGGC',\n",
              "   'CTTATCCATATGGCA',\n",
              "   'TTATCCATATGGCAT',\n",
              "   'TATCCATATGGCATA',\n",
              "   'ATCCATATGGCATAA',\n",
              "   'TCCATATGGCATAAT',\n",
              "   'CCATATGGCATAATC'])]"
            ]
          },
          "metadata": {},
          "execution_count": 53
        }
      ]
    },
    {
      "cell_type": "code",
      "source": [
        "spark = SparkSession.builder.appName('BigData').getOrCreate()\n",
        "# 15\n",
        "read_df_15 = spark.sparkContext.parallelize(res_read_15.collect()).toDF()\n",
        "read_df_15 = read_df_15.withColumnRenamed(\"_1\",\"read_num\")\\\n",
        "   .withColumnRenamed(\"_2\",\"read_name\")\\\n",
        "   .withColumnRenamed(\"_3\",\"read\")\\\n",
        "   .withColumnRenamed(\"_4\",\"kmer_list\")\n",
        "# 20\n",
        "read_df_20 = spark.sparkContext.parallelize(res_read_20.collect()).toDF()\n",
        "read_df_20 = read_df_20.withColumnRenamed(\"_1\",\"read_num\")\\\n",
        "   .withColumnRenamed(\"_2\",\"read_name\")\\\n",
        "   .withColumnRenamed(\"_3\",\"read\")\\\n",
        "   .withColumnRenamed(\"_4\",\"kmer_list\")"
      ],
      "metadata": {
        "id": "d0zD0FEsn3Lf"
      },
      "execution_count": null,
      "outputs": []
    },
    {
      "cell_type": "code",
      "source": [
        "read_df_15.show(2)"
      ],
      "metadata": {
        "colab": {
          "base_uri": "https://localhost:8080/"
        },
        "id": "8bjQ6WiVqWjl",
        "outputId": "95815020-e479-45bb-d6c0-9bf4ebcd5acc"
      },
      "execution_count": null,
      "outputs": [
        {
          "output_type": "stream",
          "name": "stdout",
          "text": [
            "+--------+--------------------+--------------------+--------------------+\n",
            "|read_num|           read_name|                read|           kmer_list|\n",
            "+--------+--------------------+--------------------+--------------------+\n",
            "|   read0|@ST-K00126:336:H5...|TCCTTACTGGTTTTGCA...|[TCCTTACTGGTTTTG,...|\n",
            "|   read1|@ST-K00126:1714:H...|GGTTTTTCAGGTAACTT...|[GGTTTTTCAGGTAAC,...|\n",
            "+--------+--------------------+--------------------+--------------------+\n",
            "only showing top 2 rows\n",
            "\n"
          ]
        }
      ]
    },
    {
      "cell_type": "code",
      "source": [
        "read_df_20.show(2)"
      ],
      "metadata": {
        "colab": {
          "base_uri": "https://localhost:8080/"
        },
        "id": "6OCerf52qYf5",
        "outputId": "9ffa9eed-d082-4eef-e28d-34bcd75f480e"
      },
      "execution_count": null,
      "outputs": [
        {
          "output_type": "stream",
          "name": "stdout",
          "text": [
            "+--------+--------------------+--------------------+--------------------+\n",
            "|read_num|           read_name|                read|           kmer_list|\n",
            "+--------+--------------------+--------------------+--------------------+\n",
            "|   read0|@ST-K00126:336:H5...|TCCTTACTGGTTTTGCA...|[TCCTTACTGGTTTTGC...|\n",
            "|   read1|@ST-K00126:1714:H...|GGTTTTTCAGGTAACTT...|[GGTTTTTCAGGTAACT...|\n",
            "+--------+--------------------+--------------------+--------------------+\n",
            "only showing top 2 rows\n",
            "\n"
          ]
        }
      ]
    },
    {
      "cell_type": "markdown",
      "source": [
        "## Build distinct kmer set"
      ],
      "metadata": {
        "id": "ZTUkJ-O_qvcy"
      }
    },
    {
      "cell_type": "code",
      "source": [
        "def get_distinct_kmer_set(read, ref):\n",
        "  all_kmer_ref = ref.select('kmer_list').collect()\n",
        "  all_kmer_read = read.select('kmer_list').collect()\n",
        "  distinct_kmer = set()\n",
        "  for i in range(read.count()):\n",
        "    distinct_kmer = distinct_kmer.union(set(all_kmer_read[i][0]))\n",
        "  for i in range(ref.count()):\n",
        "    distinct_kmer = distinct_kmer.union(set(all_kmer_ref[i][0]))\n",
        "  return distinct_kmer"
      ],
      "metadata": {
        "id": "ED-KaP4_reK_"
      },
      "execution_count": null,
      "outputs": []
    },
    {
      "cell_type": "code",
      "source": [
        "all_kmer_sorted_15 = sorted(get_distinct_kmer_set(read_df_15, ref_df_15))\n",
        "all_kmer_sorted_20 = sorted(get_distinct_kmer_set(read_df_20, ref_df_20))"
      ],
      "metadata": {
        "id": "hpFcurx8r6wI"
      },
      "execution_count": null,
      "outputs": []
    },
    {
      "cell_type": "code",
      "source": [
        "print('The number of disticnt kmer with kmer size = 15: ' + str(len(all_kmer_sorted_15)))\n",
        "print('The number of disticnt kmer with kmer size = 20: ' + str(len(all_kmer_sorted_20)))"
      ],
      "metadata": {
        "colab": {
          "base_uri": "https://localhost:8080/"
        },
        "id": "b1mMIq9OxRQk",
        "outputId": "b61169d0-f306-4d51-b16c-2c9506dd2232"
      },
      "execution_count": null,
      "outputs": [
        {
          "output_type": "stream",
          "name": "stdout",
          "text": [
            "The number of disticnt kmer with kmer size = 15: 72530\n",
            "The number of disticnt kmer with kmer size = 20: 77751\n"
          ]
        }
      ]
    },
    {
      "cell_type": "markdown",
      "source": [
        "## One-hot encoding"
      ],
      "metadata": {
        "id": "Sx3-u3x0uRae"
      }
    },
    {
      "cell_type": "code",
      "source": [
        "def k_mer_exist(i,k_mer, source):\n",
        "    all_len = len(source)\n",
        "    results = [0] * all_len\n",
        "    for t in range(all_len):\n",
        "      if k_mer in source[t]:\n",
        "        results[t] = 1\n",
        "    return [i,results]"
      ],
      "metadata": {
        "id": "kRqKQCtiutVs"
      },
      "execution_count": null,
      "outputs": []
    },
    {
      "cell_type": "code",
      "source": [
        "one_hot_ref_15 = np.zeros((len(all_kmer_sorted_15),ref_df_15.count()))\n",
        "def collect_result_ref_15(result):\n",
        "    global one_hot_ref_15\n",
        "    one_hot_ref_15[result[0],:] = result[1]\n",
        "\n",
        "one_hot_read_15 = np.zeros((len(all_kmer_sorted_15),read_df_15.count()))\n",
        "def collect_result_read_15(result):\n",
        "    global one_hot_read_15\n",
        "    one_hot_read_15[result[0],:] = result[1]\n",
        "  \n",
        "one_hot_ref_20 = np.zeros((len(all_kmer_sorted_20),ref_df_20.count()))\n",
        "def collect_result_ref_20(result):\n",
        "    global one_hot_ref_20\n",
        "    one_hot_ref_20[result[0],:] = result[1]\n",
        "\n",
        "one_hot_read_20 = np.zeros((len(all_kmer_sorted_20),read_df_20.count()))\n",
        "def collect_result_read_20(result):\n",
        "    global one_hot_read_20\n",
        "    one_hot_read_20[result[0],:] = result[1]"
      ],
      "metadata": {
        "id": "puW7uJZEu_mX"
      },
      "execution_count": null,
      "outputs": []
    },
    {
      "cell_type": "code",
      "source": [
        "import multiprocessing as mp\n",
        "pool = mp.Pool(mp.cpu_count())"
      ],
      "metadata": {
        "id": "MVu8USORsbEW"
      },
      "execution_count": null,
      "outputs": []
    },
    {
      "cell_type": "code",
      "source": [
        "all_read_15 = [i[0] for i in list(read_df_15.select('read').collect())]\n",
        "all_ref_15 = [i[0] for i in list(ref_df_15.select('bin').collect())]\n",
        "all_read_20 = [i[0] for i in list(read_df_20.select('read').collect())]\n",
        "all_ref_20 = [i[0] for i in list(ref_df_20.select('bin').collect())]"
      ],
      "metadata": {
        "id": "-YSy-RdfwM9F"
      },
      "execution_count": null,
      "outputs": []
    },
    {
      "cell_type": "code",
      "source": [
        "# one-hot encoding for reference with kmer =15\n",
        "for i, k_mer in enumerate(all_kmer_sorted_15):\n",
        "  pool.apply_async(k_mer_exist, args=(i, k_mer, all_ref_15), callback=collect_result_ref_15)\n",
        "pool.close()\n",
        "pool.join() "
      ],
      "metadata": {
        "id": "ySbArhpYv9Q4"
      },
      "execution_count": null,
      "outputs": []
    },
    {
      "cell_type": "code",
      "source": [
        "# one-hot encoding for read with kmer = 15\n",
        "pool = mp.Pool(mp.cpu_count())\n",
        "for i, k_mer in enumerate(all_kmer_sorted_15):\n",
        "  pool.apply_async(k_mer_exist, args=(i, k_mer, all_read_15), callback=collect_result_read_15)\n",
        "pool.close()\n",
        "pool.join() "
      ],
      "metadata": {
        "id": "pzzCwNPCwoKt"
      },
      "execution_count": null,
      "outputs": []
    },
    {
      "cell_type": "code",
      "source": [
        "# one-hot encoding for reference with kmer =20\n",
        "pool = mp.Pool(mp.cpu_count())\n",
        "for i, k_mer in enumerate(all_kmer_sorted_20):\n",
        "  pool.apply_async(k_mer_exist, args=(i, k_mer, all_ref_20), callback=collect_result_ref_20)\n",
        "pool.close()\n",
        "pool.join() "
      ],
      "metadata": {
        "id": "R6GMVB1YxpzF"
      },
      "execution_count": null,
      "outputs": []
    },
    {
      "cell_type": "code",
      "source": [
        "# one-hot encoding for read with kmer = 20\n",
        "pool = mp.Pool(mp.cpu_count())\n",
        "for i, k_mer in enumerate(all_kmer_sorted_20):\n",
        "  pool.apply_async(k_mer_exist, args=(i, k_mer, all_read_20), callback=collect_result_read_20)\n",
        "pool.close()\n",
        "pool.join() "
      ],
      "metadata": {
        "id": "cUp097WnxxFN"
      },
      "execution_count": null,
      "outputs": []
    },
    {
      "cell_type": "markdown",
      "source": [
        "## Convert one-hot encoding results into sparse vector formats"
      ],
      "metadata": {
        "id": "G2luZkKyyKrf"
      }
    },
    {
      "cell_type": "code",
      "source": [
        "def convert_to_sparse_vector(kmer_list, one_hot_r):\n",
        "  kmer_len = len(kmer_list)\n",
        "  sparse = []\n",
        "  for i in range(one_hot_r.shape[1]):\n",
        "    target = one_hot_r[:,i]\n",
        "    index = [t for t,value in enumerate(target) if value > 0]\n",
        "    len_one = len(index)\n",
        "    sparse.append((i, Vectors.sparse(kmer_len,index,[1.0]*len_one)))\n",
        "  return sparse"
      ],
      "metadata": {
        "id": "bJkVd2qZynGr"
      },
      "execution_count": null,
      "outputs": []
    },
    {
      "cell_type": "code",
      "source": [
        "ref_sparse_15 = convert_to_sparse_vector(all_kmer_sorted_15, one_hot_ref_15)\n",
        "read_sparse_15 = convert_to_sparse_vector(all_kmer_sorted_15, one_hot_read_15)\n",
        "ref_sparse_20 = convert_to_sparse_vector(all_kmer_sorted_20, one_hot_ref_20)\n",
        "read_sparse_20 = convert_to_sparse_vector(all_kmer_sorted_20, one_hot_read_20)"
      ],
      "metadata": {
        "id": "T_qq5hqSzjjW"
      },
      "execution_count": null,
      "outputs": []
    },
    {
      "cell_type": "markdown",
      "source": [
        "## Store sparse vector result"
      ],
      "metadata": {
        "id": "oPyJH3tN0yUD"
      }
    },
    {
      "cell_type": "code",
      "source": [
        "with open(cur_path + '/ref_sparse_15', \"wb\") as fp:  \n",
        "   pickle.dump(ref_sparse_15,fp)\n",
        "with open(cur_path + '/read_sparse_15', \"wb\") as fp:  \n",
        "   pickle.dump(read_sparse_15,fp)\n",
        "with open(cur_path + '/ref_sparse_20', \"wb\") as fp:  \n",
        "   pickle.dump(ref_sparse_20,fp)\n",
        "with open(cur_path + '/read_sparse_20', \"wb\") as fp:  \n",
        "   pickle.dump(read_sparse_20,fp)"
      ],
      "metadata": {
        "id": "HgxbkEpg0u1a"
      },
      "execution_count": null,
      "outputs": []
    }
  ]
}
